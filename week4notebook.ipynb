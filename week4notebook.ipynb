{
  "metadata": {
    "language_info": {
      "codemirror_mode": {
        "name": "python",
        "version": 3
      },
      "file_extension": ".py",
      "mimetype": "text/x-python",
      "name": "python",
      "nbconvert_exporter": "python",
      "pygments_lexer": "ipython3",
      "version": "3.8"
    },
    "kernelspec": {
      "name": "python",
      "display_name": "Pyolite",
      "language": "python"
    }
  },
  "nbformat_minor": 4,
  "nbformat": 4,
  "cells": [
    {
      "cell_type": "markdown",
      "source": "# My Jupyter Notebook on IBM Watson Studio",
      "metadata": {}
    },
    {
      "cell_type": "markdown",
      "source": "__Jerome Gisinger__ <br>\nIndustrial Maintenance Specialist",
      "metadata": {}
    },
    {
      "cell_type": "markdown",
      "source": "_I am interested in Data Science because I believe I can use to to optimize our planned maintainence scheduling as well as to advance my career._",
      "metadata": {}
    },
    {
      "cell_type": "markdown",
      "source": "### My code will return the value of 2 + 2 in the mod 3 cyclical group.",
      "metadata": {}
    },
    {
      "cell_type": "code",
      "source": "(2 + 2)%3",
      "metadata": {
        "trusted": true
      },
      "execution_count": 5,
      "outputs": [
        {
          "execution_count": 5,
          "output_type": "execute_result",
          "data": {
            "text/plain": "1"
          },
          "metadata": {}
        }
      ]
    },
    {
      "cell_type": "markdown",
      "source": "### This is my final Cell\n***\nIdeas for the cell <br>\n* random words\n* more random words\n* a numbered list instead <br>\n\nPerhaps a link to google? <br>\n__[Google](www.google.com)__\n\nLets try that numbered list and make it random food.\n1. Pizza\n2. Hotdogs",
      "metadata": {}
    },
    {
      "cell_type": "code",
      "source": "",
      "metadata": {},
      "execution_count": null,
      "outputs": []
    }
  ]
}